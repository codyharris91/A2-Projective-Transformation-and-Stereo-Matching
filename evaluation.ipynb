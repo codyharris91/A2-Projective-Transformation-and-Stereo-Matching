{
 "cells": [
  {
   "cell_type": "code",
   "execution_count": 4,
   "metadata": {},
   "outputs": [],
   "source": [
    "import numpy as np\n",
    "from PIL import Image"
   ]
  },
  {
   "cell_type": "code",
   "execution_count": 32,
   "metadata": {},
   "outputs": [],
   "source": [
    "def end_point_error(pred_img, ground_truth):\n",
    "    gray_pred_img = Image.open(pred_img).convert('L')\n",
    "    pred = np.array(gray_pred_img)\n",
    "    gray_ground_truth = Image.open(ground_truth).convert('L')\n",
    "    gt = np.array(gray_ground_truth)\n",
    "    epe = np.mean(abs(pred-gt))\n",
    "    return epe"
   ]
  },
  {
   "cell_type": "code",
   "execution_count": 40,
   "metadata": {},
   "outputs": [],
   "source": [
    "def error_rate(pred_img, ground_truth, threshold=3):\n",
    "    gray_pred_img = Image.open(pred_img).convert('L')\n",
    "    pred = np.array(gray_pred_img)\n",
    "    gray_ground_truth = Image.open(ground_truth).convert('L')\n",
    "    gt = np.array(gray_ground_truth)\n",
    "    disparity = abs(pred-gt)>3\n",
    "    print(np.mean(disparity))\n",
    "    er = 100*np.mean(disparity)\n",
    "    return er"
   ]
  },
  {
   "cell_type": "code",
   "execution_count": 41,
   "metadata": {},
   "outputs": [
    {
     "name": "stdout",
     "output_type": "stream",
     "text": [
      "[[ 42  40  37 ...  50  54  75]\n",
      " [ 40  39  39 ...  52  45  48]\n",
      " [ 42  39  39 ...  48  46  47]\n",
      " ...\n",
      " [  3  50  84 ... 237 227 238]\n",
      " [ 67  87  94 ...   1 242 247]\n",
      " [ 96  96  94 ...   5   0   5]]\n"
     ]
    },
    {
     "data": {
      "text/plain": [
       "94.82135223765432"
      ]
     },
     "execution_count": 41,
     "metadata": {},
     "output_type": "execute_result"
    }
   ],
   "source": [
    "end_point_error('input_images/part2/1/0015_rgb_left.png', 'input_images/part2/1/0015_gt.png')"
   ]
  },
  {
   "cell_type": "code",
   "execution_count": 42,
   "metadata": {},
   "outputs": [
    {
     "name": "stdout",
     "output_type": "stream",
     "text": [
      "0.9918441358024691\n"
     ]
    },
    {
     "data": {
      "text/plain": [
       "99.18441358024691"
      ]
     },
     "execution_count": 42,
     "metadata": {},
     "output_type": "execute_result"
    }
   ],
   "source": [
    "error_rate('input_images/part2/1/0015_rgb_left.png', 'input_images/part2/1/0015_gt.png')"
   ]
  },
  {
   "cell_type": "code",
   "execution_count": null,
   "metadata": {},
   "outputs": [],
   "source": []
  }
 ],
 "metadata": {
  "kernelspec": {
   "display_name": "Python 3",
   "language": "python",
   "name": "python3"
  },
  "language_info": {
   "codemirror_mode": {
    "name": "ipython",
    "version": 3
   },
   "file_extension": ".py",
   "mimetype": "text/x-python",
   "name": "python",
   "nbconvert_exporter": "python",
   "pygments_lexer": "ipython3",
   "version": "3.7.4"
  }
 },
 "nbformat": 4,
 "nbformat_minor": 4
}
